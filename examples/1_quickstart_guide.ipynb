{
 "cells": [
  {
   "cell_type": "markdown",
   "metadata": {},
   "source": [
    "# Quickstart: Scrape Your Letterboxd Data in 5 Minutes\n",
    "\n",
    "Welcome to `scrapxd`! This notebook is a quick guide to get you started with the library.\n",
    "\n",
    "We will install the library, fetch a user's data, and export their watchlist to a CSV file, all in just a few steps."
   ]
  },
  {
   "cell_type": "markdown",
   "metadata": {},
   "source": [
    "### Step 1: Installation and Import\n",
    "\n",
    "First, let's install `scrapxd` directly from the GitHub repository and then import the main class."
   ]
  },
  {
   "cell_type": "code",
   "execution_count": null,
   "metadata": {},
   "outputs": [],
   "source": [
    "# If you're running this locally, you can comment out the installation line if you already have the library installed\n",
    "!pip install scrapxd\n",
    "\n",
    "from scrapxd.client import Scrapxd"
   ]
  },
  {
   "cell_type": "markdown",
   "metadata": {},
   "source": [
    "### Step 2: Create a Client and Get a User\n",
    "\n",
    "The `Scrapxd` class is the main entry point. Let's create a client and use it to get a `User` object.\n",
    "\n",
    "**Replace `'your_username_here'` with your own Letterboxd username.**"
   ]
  },
  {
   "cell_type": "code",
   "execution_count": null,
   "metadata": {},
   "outputs": [],
   "source": [
    "# Instantiate the client\n",
    "client = Scrapxd()\n",
    "\n",
    "# Get the user object (the library hasn't made any network calls yet)\n",
    "my_user = client.get_user(\"your_username_here\")"
   ]
  },
  {
   "cell_type": "markdown",
   "metadata": {},
   "source": [
    "### Step 3: Access Your Data\n",
    "\n",
    "Now that we have the `my_user` object, we can access its attributes. `scrapxd` will automatically fetch the data from Letterboxd the first time you access a property (lazy-loading).\n",
    "\n",
    "Let's see your display name and the total number of films you've logged."
   ]
  },
  {
   "cell_type": "code",
   "execution_count": null,
   "metadata": {},
   "outputs": [],
   "source": [
    "print(f\"Display Name: {my_user.display_name}\")\n",
    "print(f\"Total Films Logged: {my_user.total_logs}\")"
   ]
  },
  {
   "cell_type": "markdown",
   "metadata": {},
   "source": [
    "### Step 4: Explore a List and Export\n",
    "\n",
    "Let's access your watchlist, see the first few films, and then export the entire list to a CSV file."
   ]
  },
  {
   "cell_type": "code",
   "execution_count": null,
   "metadata": {},
   "outputs": [],
   "source": [
    "# Accessing the watchlist (this will trigger the scraping of the watchlist page)\n",
    "my_watchlist = my_user.watchlist\n",
    "\n",
    "print(f\"Total films in your watchlist: {my_watchlist.number_of_films}\\n\")\n",
    "\n",
    "print(\"The first 3 films in your watchlist are:\")\n",
    "for film in my_watchlist.films[:3]:\n",
    "    # The title and year are also lazy-loaded for each film\n",
    "    print(f\"- {film.title} ({film.year})\")"
   ]
  },
  {
   "cell_type": "code",
   "execution_count": null,
   "metadata": {},
   "outputs": [],
   "source": [
    "# Finally, let's export the complete list to a CSV file\n",
    "output_filename = f\"{my_user.username}_watchlist.csv\"\n",
    "my_watchlist.to_csv(filepath=output_filename)\n",
    "\n",
    "print(f\"✅ Export complete! Check for the file '{output_filename}' in the same directory as this notebook.\")"
   ]
  },
  {
   "cell_type": "markdown",
   "metadata": {},
   "source": [
    "### Conclusion\n",
    "\n",
    "And that's it! In just a few minutes and with a few lines of code, you have successfully scraped and exported a complete list of your Letterboxd data. Explore the other notebooks to discover the analytics and search functionalities."
   ]
  }
 ],
 "metadata": {
  "kernelspec": {
   "display_name": "Python 3",
   "language": "python",
   "name": "python3"
  }
 },
 "nbformat": 4,
 "nbformat_minor": 2
}
