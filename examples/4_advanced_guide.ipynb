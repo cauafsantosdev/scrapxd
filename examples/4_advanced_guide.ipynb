{
 "cells": [
  {
   "cell_type": "markdown",
   "metadata": {},
   "source": [
    "# Advanced Guide: Film Details and Search\n",
    "\n",
    "This notebook explores two powerful features of `scrapxd`:\n",
    "1.  **Lazy-Loading**: How the `Film` model fetches a film's information only when it's needed.\n",
    "2.  **Film Search**: How to use `FilmSearch` to find films based on specific criteria like decade, genre, and sorting order."
   ]
  },
  {
   "cell_type": "code",
   "execution_count": null,
   "metadata": {},
   "outputs": [],
   "source": [
    "!pip install scrapxd[export]\n",
    "\n",
    "from scrapxd import Scrapxd"
   ]
  },
  {
   "cell_type": "markdown",
   "metadata": {},
   "source": [
    "### Part 1: Deep Dive into a Film (`Film`)\n",
    "\n",
    "When you create a `Film` object, no network request is made. The library only fetches the data when you access the first attribute."
   ]
  },
  {
   "cell_type": "code",
   "execution_count": null,
   "metadata": {},
   "outputs": [],
   "source": [
    "client = Scrapxd()\n",
    "\n",
    "# No network request is made here, the object is just created.\n",
    "mulholland_drive = client.get_film(\"mulholland-drive\")\n",
    "print(\"Film object created.\")\n",
    "\n",
    "# Now, by accessing .title, scrapxd will fetch the film's HTML.\n",
    "print(f\"Title: {mulholland_drive.title}\")\n",
    "\n",
    "# Subsequent calls are instantaneous, as the data is now cached.\n",
    "print(f\"Year: {mulholland_drive.year}\")\n",
    "print(f\"Director: {mulholland_drive.director}\")"
   ]
  },
  {
   "cell_type": "code",
   "execution_count": null,
   "metadata": {},
   "outputs": [],
   "source": [
    "# Accessing more complex attributes that require more parsing\n",
    "print(\"\\n--- Main Cast ---\")\n",
    "for actor, character in list(mulholland_drive.cast.items())[:3]:\n",
    "    print(f\"{actor} as {character}\")\n",
    "\n",
    "print(\"\\n--- Crew ---\")\n",
    "for role, people in mulholland_drive.crew.items():\n",
    "    # The 'crew' attribute can have a list of people for the same role\n",
    "    people_str = \", \".join(people) if isinstance(people, list) else people\n",
    "    print(f\"{role}: {people_str}\")"
   ]
  },
  {
   "cell_type": "markdown",
   "metadata": {},
   "source": [
    "### Part 2: Finding Films with `FilmSearch`\n",
    "\n",
    "The `FilmSearch` class allows you to build complex searches and get the results directly."
   ]
  },
  {
   "cell_type": "code",
   "execution_count": null,
   "metadata": {},
   "outputs": [],
   "source": [
    "# Example: Find the most popular crime and drama films of the 1970s\n",
    "search = client.search_films(\n",
    "    decade=\"1970s\",\n",
    "    genre=[\"crime\", \"drama\"],\n",
    "    order_by=\"popular\",\n",
    "    limit=5 # We only want the top 5 results\n",
    ")"
   ]
  },
  {
   "cell_type": "code",
   "execution_count": null,
   "metadata": {},
   "outputs": [],
   "source": [
    "print(f\"Search performed with query: {search.query}\\n\")\n",
    "print(f\"Found {search.total_films_found} films. Displaying the first {len(search.films)}:\")\n",
    "\n",
    "for film in search.films:\n",
    "    print(f\"- {film.title} ({film.year}) - Director: {film.director[0]}\")"
   ]
  },
  {
   "cell_type": "markdown",
   "metadata": {},
   "source": [
    "### Part 3: Exporting Search Results\n",
    "\n",
    "Just like user lists, search results can also be easily exported."
   ]
  },
  {
   "cell_type": "code",
   "execution_count": null,
   "metadata": {},
   "outputs": [],
   "source": [
    "search.to_xlsx(\"search_results.xlsx\")\n",
    "\n",
    "print(\"✅ Search results exported to 'search_results.xlsx'!\")"
   ]
  }
 ],
 "metadata": {
  "kernelspec": {
   "display_name": ".venv",
   "language": "python",
   "name": "python3"
  },
  "language_info": {
   "codemirror_mode": {
    "name": "ipython",
    "version": 3
   },
   "file_extension": ".py",
   "mimetype": "text/x-python",
   "name": "python",
   "nbconvert_exporter": "python",
   "pygments_lexer": "ipython3",
   "version": "3.13.7"
  }
 },
 "nbformat": 4,
 "nbformat_minor": 2
}
