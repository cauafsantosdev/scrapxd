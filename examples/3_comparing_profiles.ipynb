{
 "cells": [
  {
   "cell_type": "markdown",
   "metadata": {},
   "source": [
    "# Comparing Profiles: How Similar is Your Taste to Someone Else's?\n",
    "\n",
    "One of the most powerful features of `scrapxd` is the ability to compare the habits and tastes of two different users. This notebook demonstrates how to use the `compare_with` method to generate a cinephile compatibility report."
   ]
  },
  {
   "cell_type": "code",
   "execution_count": null,
   "metadata": {},
   "outputs": [],
   "source": [
    "!pip install scrapxd[analytics]\n",
    "\n",
    "from scrapxd import Scrapxd"
   ]
  },
  {
   "cell_type": "markdown",
   "metadata": {},
   "source": [
    "### Step 1: Choose Users and Fetch Their Data\n",
    "\n",
    "Let's pick two users to compare. For the best results, choose users with a significant number of logged films. We'll use `dave` and `filmograph` as an example."
   ]
  },
  {
   "cell_type": "code",
   "execution_count": null,
   "metadata": {},
   "outputs": [],
   "source": [
    "client = Scrapxd()\n",
    "\n",
    "print(\"Fetching data for User A...\")\n",
    "user_a = client.get_user(\"dave\")\n",
    "logs_a = user_a.logs # This can take a while\n",
    "\n",
    "print(\"Fetching data for User B...\")\n",
    "user_b = client.get_user(\"filmograph\")\n",
    "logs_b = user_b.logs # This can also take a while\n",
    "\n",
    "print(\"\\nData fetched! Starting comparison.\")"
   ]
  },
  {
   "cell_type": "markdown",
   "metadata": {},
   "source": [
    "### Step 2: Run the Comparison\n",
    "\n",
    "With both users' logs in hand, we can run the comparison with a single method call."
   ]
  },
  {
   "cell_type": "code",
   "execution_count": null,
   "metadata": {},
   "outputs": [],
   "source": [
    "comparison_results = logs_a.compare_with(logs_b)"
   ]
  },
  {
   "cell_type": "markdown",
   "metadata": {},
   "source": [
    "### Step 3: Analyze the Results\n",
    "\n",
    "The returned object contains a wealth of information about the similarity between the two profiles. Let's explore the results."
   ]
  },
  {
   "cell_type": "code",
   "execution_count": null,
   "metadata": {},
   "outputs": [],
   "source": [
    "print(f\"--- Compatibility Report: {user_a.username} vs {user_b.username} ---\\n\")\n",
    "\n",
    "print(f\"Film Similarity Score (Jaccard Index): {comparison_results.film_similarity_score:.2%}\")\n",
    "print(f\"Director Similarity Score: {comparison_results.directors_similarity_score:.2%}\")\n",
    "print(f\"Genre Similarity Score: {comparison_results.genres_similarity_score:.2%}\\n\")\n",
    "\n",
    "print(f\"Total films in common: {len(comparison_results.common_films)}\")\n",
    "print(f\"Some films in common: {[film.slug for film in comparison_results.common_films[:5]]}\\n\")\n",
    "\n",
    "print(f\"Total directors in common: {len(comparison_results.common_directors)}\")\n",
    "print(f\"Some directors in common: {comparison_results.common_directors[:5]}\\n\")\n",
    "\n",
    "dir_agree = comparison_results.top_director_agreement\n",
    "print(f\"Most watched director for {user_a.username}: {dir_agree[0][0][0]} ({dir_agree[0][0][1]} films)\")\n",
    "print(f\"Most watched director for {user_b.username}: {dir_agree[1][0][0]} ({dir_agree[1][0][1]} films)\")\n",
    "print(f\"Do they agree on their most-watched director? {'Yes' if dir_agree[2] else 'No'}\\n\")"
   ]
  },
  {
   "cell_type": "code",
   "execution_count": null,
   "metadata": {},
   "outputs": [],
   "source": [
    "print(\"--- Rating Analysis on Common Films ---\\n\")\n",
    "\n",
    "rating_comp = comparison_results.rating_comparison\n",
    "if rating_comp:\n",
    "    print(f\"Average rating difference on common films: {rating_comp['average_rating_difference']} stars\")\n",
    "    \n",
    "    most_disagreed = rating_comp['most_disagreed_film']\n",
    "    print(f\"Film with the biggest disagreement: {most_disagreed['slug']}\")\n",
    "    print(f\"  -> {user_a.username}'s rating: {most_disagreed['self_rating']}\")\n",
    "    print(f\"  -> {user_b.username}'s rating: {most_disagreed['other_rating']}\")\n",
    "else:\n",
    "    print(\"No common films with ratings were found to compare.\")"
   ]
  }
 ],
 "metadata": {
  "kernelspec": {
   "display_name": ".venv",
   "language": "python",
   "name": "python3"
  },
  "language_info": {
   "codemirror_mode": {
    "name": "ipython",
    "version": 3
   },
   "file_extension": ".py",
   "mimetype": "text/x-python",
   "name": "python",
   "nbconvert_exporter": "python",
   "pygments_lexer": "ipython3",
   "version": "3.13.7"
  }
 },
 "nbformat": 4,
 "nbformat_minor": 2
}
