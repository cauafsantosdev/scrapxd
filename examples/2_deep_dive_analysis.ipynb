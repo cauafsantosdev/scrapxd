{
 "cells": [
  {
   "cell_type": "markdown",
   "metadata": {},
   "source": [
    "# Deep Dive Analysis: Discovering Your Film Habits\n",
    "\n",
    "This notebook demonstrates how to use the `analytics` layer of `scrapxd` to extract deep insights into a Letterboxd user's habits.\n",
    "\n",
    "We will analyze a user's diary to discover their favorite directors, genres, and actors, and even visualize their cinematic discovery journey."
   ]
  },
  {
   "cell_type": "markdown",
   "metadata": {},
   "source": [
    "### Step 1: Installation and Imports\n",
    "\n",
    "For this notebook, we'll need data visualization libraries like `matplotlib` and `seaborn`."
   ]
  },
  {
   "cell_type": "code",
   "execution_count": null,
   "metadata": {},
   "outputs": [],
   "source": [
    "!pip install scrapxd\n",
    "!pip install matplotlib seaborn\n",
    "\n",
    "import matplotlib.pyplot as plt\n",
    "import seaborn as sns\n",
    "from scrapxd import Scrapxd\n",
    "\n",
    "# Settings for our plots\n",
    "sns.set_theme(style=\"whitegrid\")"
   ]
  },
  {
   "cell_type": "markdown",
   "metadata": {},
   "source": [
    "### Step 2: Fetch the Data\n",
    "\n",
    "Let's get a user's diary. For a richer analysis, it's best to choose a user with a large number of logged films. We'll use `dave` (one of Letterboxd's founders) as an example, but you can replace it with your own."
   ]
  },
  {
   "cell_type": "code",
   "execution_count": null,
   "metadata": {},
   "outputs": [],
   "source": [
    "client = Scrapxd()\n",
    "user = client.get_user(\"dave\")\n",
    "\n",
    "# Accessing the diary will trigger the scraping of all the user's diary pages.\n",
    "# This might take a few minutes for users with many films\n",
    "diary = user.diary\n",
    "\n",
    "print(f\"Analyzing {diary.number_of_entries} diary entries from {user.display_name}.\")"
   ]
  },
  {
   "cell_type": "markdown",
   "metadata": {},
   "source": [
    "### Step 3: Top Analysis - Who and what do you watch the most?\n",
    "\n",
    "Let's use the `get_top_*` methods to find the most frequent directors, actors, and genres in the diary."
   ]
  },
  {
   "cell_type": "code",
   "execution_count": null,
   "metadata": {},
   "outputs": [],
   "source": [
    "# Get the top 10 most-watched directors\n",
    "top_directors = diary.get_top_directors(top_n=10)\n",
    "\n",
    "# Prepare data for plotting\n",
    "directors, counts = zip(*top_directors)\n",
    "\n",
    "# Create the bar chart\n",
    "plt.figure(figsize=(12, 6))\n",
    "sns.barplot(x=list(counts), y=list(directors), hue=list(directors), palette=\"viridis\", legend=False)\n",
    "plt.title(f'Top 10 Most Watched Directors for {user.username}', fontsize=16)\n",
    "plt.xlabel('Number of Films Watched')\n",
    "plt.ylabel('Director')\n",
    "plt.show()"
   ]
  },
  {
   "cell_type": "code",
   "execution_count": null,
   "metadata": {},
   "outputs": [],
   "source": [
    "# Do the same for the top 10 most-watched genres\n",
    "top_genres = diary.get_top_genres(top_n=10)\n",
    "genres, counts = zip(*top_genres)\n",
    "\n",
    "plt.figure(figsize=(12, 6))\n",
    "sns.barplot(x=list(counts), y=list(genres), hue=list(genres), palette=\"plasma\", legend=False)\n",
    "plt.title(f'Top 10 Most Watched Genres for {user.username}', fontsize=16)\n",
    "plt.xlabel('Number of Films Watched')\n",
    "plt.ylabel('Genre')\n",
    "plt.show()"
   ]
  },
  {
   "cell_type": "markdown",
   "metadata": {},
   "source": [
    "### Step 4: Rating Analysis - What do you like the most?\n",
    "\n",
    "We can go beyond frequency and analyze your ratings. Which genres do you give the highest average ratings to?"
   ]
  },
  {
   "cell_type": "code",
   "execution_count": null,
   "metadata": {},
   "outputs": [],
   "source": [
    "ratings_by_genre = diary.get_rating_by_genre(top_n=10)\n",
    "genres, avg_ratings = zip(*ratings_by_genre)\n",
    "\n",
    "plt.figure(figsize=(12, 6))\n",
    "ax = sns.barplot(x=[round(r, 2) for r in avg_ratings], y=list(genres), hue=list(genres), palette=\"magma\", legend=False)\n",
    "ax.set_xlim(0, 5)\n",
    "plt.title(f'Top 10 Highest-Rated Genres for {user.username}', fontsize=16)\n",
    "plt.xlabel('Average Rating (0-5)')\n",
    "plt.ylabel('Genre')\n",
    "plt.show()"
   ]
  },
  {
   "cell_type": "markdown",
   "metadata": {},
   "source": [
    "### Step 5: Temporal Analysis - When do you watch films?\n",
    "\n",
    "Let's find out in which year and month the user was most active."
   ]
  },
  {
   "cell_type": "code",
   "execution_count": null,
   "metadata": {},
   "outputs": [],
   "source": [
    "year, count_y = diary.most_watched_year\n",
    "month, count_m = diary.most_watched_month\n",
    "weekday, count_w = diary.most_frequent_watch_day\n",
    "\n",
    "print(f\"Most active year: {year} (with {count_y} films)\")\n",
    "print(f\"Most active month: {month} (with {count_m} films, across all years)\")\n",
    "print(f\"Most frequent weekday: {weekday} (with {count_w} films)\")"
   ]
  },
  {
   "cell_type": "markdown",
   "metadata": {},
   "source": [
    "### Conclusion\n",
    "\n",
    "With the `analytics` layer of `scrapxd`, it's possible to go far beyond simple data extraction. We can create a detailed profile of any user's tastes and habits, opening the door for creative data visualizations and portfolio-worthy analysis projects."
   ]
  }
 ],
 "metadata": {
  "kernelspec": {
   "display_name": ".venv",
   "language": "python",
   "name": "python3"
  },
  "language_info": {
   "codemirror_mode": {
    "name": "ipython",
    "version": 3
   },
   "file_extension": ".py",
   "mimetype": "text/x-python",
   "name": "python",
   "nbconvert_exporter": "python",
   "pygments_lexer": "ipython3",
   "version": "3.13.7"
  }
 },
 "nbformat": 4,
 "nbformat_minor": 2
}
